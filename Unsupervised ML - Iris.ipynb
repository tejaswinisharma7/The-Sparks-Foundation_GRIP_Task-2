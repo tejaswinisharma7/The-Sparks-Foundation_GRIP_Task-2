{
 "cells": [
  {
   "cell_type": "markdown",
   "id": "9d30865c",
   "metadata": {},
   "source": [
    "TEJASWINI SHARMA"
   ]
  },
  {
   "cell_type": "markdown",
   "id": "46c81414",
   "metadata": {},
   "source": [
    "Data Science & Business Analytics Intern @ The Sparks Foundation (GRIP)"
   ]
  },
  {
   "cell_type": "markdown",
   "id": "e76cb03a",
   "metadata": {},
   "source": [
    "Task 2 - Prediction Using Unsupervised ML - Iris"
   ]
  },
  {
   "cell_type": "markdown",
   "id": "445a9504",
   "metadata": {},
   "source": [
    "### Importing Required Libraries"
   ]
  },
  {
   "cell_type": "code",
   "execution_count": null,
   "id": "f003b552",
   "metadata": {},
   "outputs": [],
   "source": [
    "import pandas as pd\n",
    "import numpy as np\n",
    "import seaborn as sns\n",
    "import matplotlib.pyplot as plt\n",
    "%matplotlib inline\n",
    "\n",
    "from warnings import filterwarnings\n",
    "filterwarnings('ignore')"
   ]
  },
  {
   "cell_type": "markdown",
   "id": "7575d090",
   "metadata": {},
   "source": [
    "### Importing the dataset"
   ]
  },
  {
   "cell_type": "code",
   "execution_count": null,
   "id": "57706491",
   "metadata": {},
   "outputs": [],
   "source": [
    "df = pd.read_csv(\"Iris.csv\")\n",
    "df"
   ]
  },
  {
   "cell_type": "code",
   "execution_count": null,
   "id": "d992e9da",
   "metadata": {},
   "outputs": [],
   "source": [
    "# renaming the column\n",
    "\n",
    "df.rename(columns={'SepalLengthCm':'sepal length (cm)'},inplace= True)\n",
    "df.rename(columns={'SepalWidthCm':'sepal width (cm)'},inplace= True)\n",
    "df.rename(columns={'PetalLengthCm':'petal length (cm)'},inplace= True)\n",
    "df.rename(columns={'PetalWidthCm':'petal width (cm)'},inplace= True)\n",
    "df.rename(columns={'Species':'species'},inplace= True)"
   ]
  },
  {
   "cell_type": "code",
   "execution_count": null,
   "id": "4f7ab748",
   "metadata": {},
   "outputs": [],
   "source": [
    "df"
   ]
  },
  {
   "cell_type": "code",
   "execution_count": null,
   "id": "8ad050c6",
   "metadata": {},
   "outputs": [],
   "source": [
    "df.shape"
   ]
  },
  {
   "cell_type": "code",
   "execution_count": null,
   "id": "a0468703",
   "metadata": {},
   "outputs": [],
   "source": [
    "df.info()"
   ]
  },
  {
   "cell_type": "markdown",
   "id": "ea829905",
   "metadata": {},
   "source": [
    "### Visualization of the data"
   ]
  },
  {
   "cell_type": "code",
   "execution_count": null,
   "id": "c8e0348e",
   "metadata": {},
   "outputs": [],
   "source": [
    "plt.subplots(figsize=(4,4),dpi=150)\n",
    "sns.violinplot(x='species',y='sepal length (cm)',data=df)"
   ]
  },
  {
   "cell_type": "code",
   "execution_count": null,
   "id": "3f5e6e66",
   "metadata": {},
   "outputs": [],
   "source": [
    "plt.subplots(figsize=(4,4),dpi=150)\n",
    "sns.violinplot(x='species',y='sepal width (cm)',data=df)"
   ]
  },
  {
   "cell_type": "code",
   "execution_count": null,
   "id": "2d012445",
   "metadata": {},
   "outputs": [],
   "source": [
    "plt.subplots(figsize=(4,4),dpi=150)\n",
    "sns.violinplot(x='species',y='petal length (cm)',data=df)"
   ]
  },
  {
   "cell_type": "code",
   "execution_count": null,
   "id": "6c6579c8",
   "metadata": {},
   "outputs": [],
   "source": [
    "plt.subplots(figsize=(4,4),dpi=150)\n",
    "sns.violinplot(x='species',y='petal width (cm)',data=df)"
   ]
  },
  {
   "cell_type": "markdown",
   "id": "caf3c819",
   "metadata": {},
   "source": [
    "### Data Preperation "
   ]
  },
  {
   "cell_type": "code",
   "execution_count": null,
   "id": "3f1002f1",
   "metadata": {},
   "outputs": [],
   "source": [
    "df.info()"
   ]
  },
  {
   "cell_type": "code",
   "execution_count": null,
   "id": "c96972fa",
   "metadata": {},
   "outputs": [],
   "source": [
    "# dropping the Id column\n",
    "df.drop(columns='Id', inplace= True)\n",
    "\n",
    "# dropping the Species column\n",
    "df.drop(columns='species', inplace=True)"
   ]
  },
  {
   "cell_type": "code",
   "execution_count": null,
   "id": "38134561",
   "metadata": {},
   "outputs": [],
   "source": [
    "df.info()"
   ]
  },
  {
   "cell_type": "markdown",
   "id": "5e550e81",
   "metadata": {},
   "source": [
    "### Model Training Using K-Means"
   ]
  },
  {
   "cell_type": "code",
   "execution_count": null,
   "id": "c14d6058",
   "metadata": {},
   "outputs": [],
   "source": [
    "from sklearn.cluster import KMeans"
   ]
  },
  {
   "cell_type": "code",
   "execution_count": null,
   "id": "8d115067",
   "metadata": {},
   "outputs": [],
   "source": [
    "wcss=[] #within cluster sum of squares\n",
    "\n",
    "\n",
    "\n",
    "# finding the optimum number of clusters for Kmeans Classification\n",
    "\n",
    "x = df.iloc[:, [0, 1, 2, 3]].values\n",
    "\n",
    "for i in range(1, 11):\n",
    "    kmeans = KMeans(n_clusters = i, init = 'k-means++', \n",
    "                    max_iter = 300, n_init = 10, random_state = 0)\n",
    "    kmeans.fit(x)\n",
    "    wcss.append(kmeans.inertia_)"
   ]
  },
  {
   "cell_type": "code",
   "execution_count": null,
   "id": "b3cca3b6",
   "metadata": {},
   "outputs": [],
   "source": [
    "# Plotting the results onto a line graph,`allowing us to observe 'The elbow'\n",
    "\n",
    "\n",
    "plt.figure(figsize=(5,5),dpi=150)\n",
    "plt.plot(range(1, 11), wcss)\n",
    "plt.title('The elbow method')\n",
    "plt.xlabel('Number of clusters')\n",
    "plt.ylabel('WCSS')\n",
    "plt.show()"
   ]
  },
  {
   "cell_type": "markdown",
   "id": "2d7b75ab",
   "metadata": {},
   "source": [
    "You can clearly see why it is called 'The elbow method' from the above graph, the optimum clusters is where the elbow occurs. This is when the within cluster sum of squares (WCSS) doesn't decrease significantly with every iteration\n",
    "\n",
    "From this we choose the number of clusters as 3.\n"
   ]
  },
  {
   "cell_type": "code",
   "execution_count": null,
   "id": "662bbfdc",
   "metadata": {},
   "outputs": [],
   "source": [
    "x = df.iloc[:, [0, 1, 2, 3]].values\n",
    "kmeans.fit(x)\n",
    "cluster_centers = kmeans.cluster_centers_\n",
    "print(\"Cluster Centers:\")\n",
    "print(cluster_centers)"
   ]
  },
  {
   "cell_type": "code",
   "execution_count": null,
   "id": "e0e2eda5",
   "metadata": {},
   "outputs": [],
   "source": [
    "# Applying kmeans to the dataset / Creating the kmeans classifier\n",
    "\n",
    "\n",
    "kmeans = KMeans(n_clusters = 3, init = 'k-means++',\n",
    "                max_iter = 300, n_init = 10, random_state = 0)\n",
    "y_kmeans = kmeans.fit_predict(x)"
   ]
  },
  {
   "cell_type": "markdown",
   "id": "a1c13e6e",
   "metadata": {},
   "source": [
    "### Visualizing the Kmeans Results "
   ]
  },
  {
   "cell_type": "code",
   "execution_count": null,
   "id": "a7df9ed2",
   "metadata": {},
   "outputs": [],
   "source": [
    "# Visualising the clusters - On the first two features (Sepal Length vs Sepal Width)\n",
    "\n",
    "\n",
    "plt.figure(figsize=(10,7))\n",
    "\n",
    "\n",
    "\n",
    "plt.scatter(x[y_kmeans == 0, 0], x[y_kmeans == 0, 1], \n",
    "            s = 100, c = 'red', label = 'Iris-Setosa')\n",
    "plt.scatter(x[y_kmeans == 1, 0], x[y_kmeans == 1, 1], \n",
    "            s = 100, c = 'yellow', label = 'Iris-Vricolour')\n",
    "plt.scatter(x[y_kmeans == 2, 0], x[y_kmeans == 2, 1],\n",
    "            s = 100, c = 'blue', label = 'Iris-Virginica')\n",
    "\n",
    "\n",
    "# Plotting the centroids of the clusters\n",
    "\n",
    "\n",
    "plt.scatter(kmeans.cluster_centers_[:, 0], kmeans.cluster_centers_[:,1], \n",
    "            s = 100, c = 'black', label = 'Centroids')\n",
    "\n",
    "\n",
    "\n",
    "plt.title('K-means Clustering')\n",
    "plt.xlabel('sepal length (cm)')\n",
    "plt.ylabel('sepal Width (cm)')\n",
    "plt.legend()"
   ]
  },
  {
   "cell_type": "markdown",
   "id": "bbc02374",
   "metadata": {},
   "source": [
    "### Result"
   ]
  },
  {
   "cell_type": "markdown",
   "id": "d90b2490",
   "metadata": {},
   "source": [
    "    The Iris Data Set Consists of 3 Clusters with labels:\n",
    "    1.Iris Setosa \n",
    "    2.Iris Versicolour \n",
    "    3.Iris Virginica"
   ]
  }
 ],
 "metadata": {
  "kernelspec": {
   "display_name": "Python 3 (ipykernel)",
   "language": "python",
   "name": "python3"
  },
  "language_info": {
   "codemirror_mode": {
    "name": "ipython",
    "version": 3
   },
   "file_extension": ".py",
   "mimetype": "text/x-python",
   "name": "python",
   "nbconvert_exporter": "python",
   "pygments_lexer": "ipython3",
   "version": "3.9.12"
  }
 },
 "nbformat": 4,
 "nbformat_minor": 5
}
